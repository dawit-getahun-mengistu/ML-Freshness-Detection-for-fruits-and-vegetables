{
 "cells": [
  {
   "cell_type": "markdown",
   "metadata": {},
   "source": [
    "<b>Import Statements</b>"
   ]
  },
  {
   "cell_type": "code",
   "execution_count": 1,
   "metadata": {},
   "outputs": [
    {
     "name": "stdout",
     "output_type": "stream",
     "text": [
      "WARNING:tensorflow:From c:\\Users\\Tinsae Shemalise\\AppData\\Local\\Programs\\Python\\Python311\\Lib\\site-packages\\keras\\src\\losses.py:2976: The name tf.losses.sparse_softmax_cross_entropy is deprecated. Please use tf.compat.v1.losses.sparse_softmax_cross_entropy instead.\n",
      "\n",
      "WARNING:tensorflow:From c:\\Users\\Tinsae Shemalise\\AppData\\Local\\Programs\\Python\\Python311\\Lib\\site-packages\\keras\\src\\backend.py:277: The name tf.reset_default_graph is deprecated. Please use tf.compat.v1.reset_default_graph instead.\n",
      "\n"
     ]
    }
   ],
   "source": [
    "import os\n",
    "import tensorflow as tf\n",
    "import matplotlib.pyplot as plt\n"
   ]
  },
  {
   "cell_type": "code",
   "execution_count": 2,
   "metadata": {},
   "outputs": [
    {
     "name": "stdout",
     "output_type": "stream",
     "text": [
      "['Input', 'Model', 'Sequential', '__builtins__', '__cached__', '__doc__', '__file__', '__internal__', '__loader__', '__name__', '__package__', '__path__', '__spec__', 'activations', 'applications', 'backend', 'callbacks', 'constraints', 'datasets', 'dtensor', 'estimator', 'experimental', 'export', 'initializers', 'layers', 'losses', 'metrics', 'mixed_precision', 'models', 'optimizers', 'preprocessing', 'regularizers', 'saving', 'utils']\n"
     ]
    }
   ],
   "source": [
    "import tensorflow.keras as keras\n",
    "\n",
    "print(dir(keras))"
   ]
  },
  {
   "cell_type": "markdown",
   "metadata": {},
   "source": [
    "<b>Preping the data</b>"
   ]
  },
  {
   "cell_type": "markdown",
   "metadata": {},
   "source": [
    "First correcting the format of the images that aren't compatable with tensorflow"
   ]
  },
  {
   "cell_type": "code",
   "execution_count": 3,
   "metadata": {},
   "outputs": [],
   "source": [
    "# from utils.util import find_bad_images , format_images\n",
    "\n",
    "data_path = '.\\Data Set\\Final_Data'\n",
    "\n",
    "# bad_images = find_bad_images(data_path)\n",
    "# format_images(bad_images)"
   ]
  },
  {
   "cell_type": "markdown",
   "metadata": {},
   "source": [
    "<b>Loading the data</b>"
   ]
  },
  {
   "cell_type": "code",
   "execution_count": 4,
   "metadata": {},
   "outputs": [
    {
     "name": "stdout",
     "output_type": "stream",
     "text": [
      "Found 11986 files belonging to 20 classes.\n",
      "['Fresh Apple', 'Fresh Banana', 'Fresh Bellpepper', 'Fresh Carrot', 'Fresh Cucumber', 'Fresh Mango', 'Fresh Orange', 'Fresh Potato', 'Fresh Strawberry', 'Fresh Tomato', 'Rotten Apple', 'Rotten Banana', 'Rotten Bellpepper', 'Rotten Carrot', 'Rotten Cucumber', 'Rotten Mango', 'Rotten Orange', 'Rotten Potato', 'Rotten Strawberry', 'Rotten Tomato']\n"
     ]
    }
   ],
   "source": [
    "data = tf.keras.utils.image_dataset_from_directory(data_path , labels='inferred')\n",
    "class_names = data.class_names\n",
    "print(class_names)"
   ]
  },
  {
   "cell_type": "markdown",
   "metadata": {},
   "source": [
    "<b>Preprocessing Images</b>"
   ]
  },
  {
   "cell_type": "markdown",
   "metadata": {},
   "source": [
    "Scaling the image between 0 - 1 and one hot encoding the data points"
   ]
  },
  {
   "cell_type": "code",
   "execution_count": 5,
   "metadata": {},
   "outputs": [],
   "source": [
    "data = data.map(lambda  x , y : (x / 255 , tf.one_hot(y , depth=20)))\n"
   ]
  },
  {
   "cell_type": "markdown",
   "metadata": {},
   "source": [
    "Split our data to training , validating and testing sets"
   ]
  },
  {
   "cell_type": "code",
   "execution_count": 6,
   "metadata": {},
   "outputs": [
    {
     "name": "stdout",
     "output_type": "stream",
     "text": [
      "total ratio : 0.9973333333333333\n"
     ]
    }
   ],
   "source": [
    "training_amount = int(len(data) * 0.7)\n",
    "validating_amount = int(len(data) * 0.2)\n",
    "testing_amount = int(len(data) * 0.1)\n",
    "\n",
    "print(f'total ratio : {(training_amount + validating_amount + testing_amount) / len(data)}')"
   ]
  },
  {
   "cell_type": "code",
   "execution_count": 7,
   "metadata": {},
   "outputs": [],
   "source": [
    "training_set = data.take(training_amount)\n",
    "validation_set = data.skip(training_amount).take(validating_amount)\n",
    "testing_set = data.skip(training_amount + validating_amount).take(testing_amount)"
   ]
  },
  {
   "cell_type": "markdown",
   "metadata": {},
   "source": [
    "<b>Building the CNN model</b>"
   ]
  },
  {
   "cell_type": "markdown",
   "metadata": {},
   "source": [
    "Build deep neural net"
   ]
  },
  {
   "cell_type": "code",
   "execution_count": 8,
   "metadata": {},
   "outputs": [],
   "source": [
    "from tensorflow.keras.models import Sequential\n",
    "from tensorflow.keras.layers import Conv2D , MaxPooling2D , Dense , Flatten , Dropout"
   ]
  },
  {
   "cell_type": "code",
   "execution_count": 9,
   "metadata": {},
   "outputs": [],
   "source": [
    "model = Sequential()\n",
    "\n",
    "model.add(Conv2D(64 , (3,3) , 1 , activation = 'relu' , input_shape = (256 , 256 ,3)))\n",
    "model.add(MaxPooling2D())\n",
    "\n",
    "model.add(Conv2D(32 , (3,3) , 1 , activation = 'relu'))\n",
    "model.add(MaxPooling2D())\n",
    "\n",
    "model.add(Conv2D(64 , (3,3) , 1 , activation = 'relu'))\n",
    "model.add(MaxPooling2D())\n",
    "\n",
    "model.add(Flatten())\n",
    "\n",
    "model.add(Dense(256 , activation = 'relu'))\n",
    "model.add(Dropout(0.5))\n",
    "\n",
    "model.add(Dense(20 , activation = 'softmax'))"
   ]
  },
  {
   "cell_type": "code",
   "execution_count": 10,
   "metadata": {},
   "outputs": [
    {
     "name": "stdout",
     "output_type": "stream",
     "text": [
      "Model: \"sequential\"\n",
      "_________________________________________________________________\n",
      " Layer (type)                Output Shape              Param #   \n",
      "=================================================================\n",
      " conv2d (Conv2D)             (None, 254, 254, 64)      1792      \n",
      "                                                                 \n",
      " max_pooling2d (MaxPooling2  (None, 127, 127, 64)      0         \n",
      " D)                                                              \n",
      "                                                                 \n",
      " conv2d_1 (Conv2D)           (None, 125, 125, 32)      18464     \n",
      "                                                                 \n",
      " max_pooling2d_1 (MaxPoolin  (None, 62, 62, 32)        0         \n",
      " g2D)                                                            \n",
      "                                                                 \n",
      " conv2d_2 (Conv2D)           (None, 60, 60, 64)        18496     \n",
      "                                                                 \n",
      " max_pooling2d_2 (MaxPoolin  (None, 30, 30, 64)        0         \n",
      " g2D)                                                            \n",
      "                                                                 \n",
      " flatten (Flatten)           (None, 57600)             0         \n",
      "                                                                 \n",
      " dense (Dense)               (None, 256)               14745856  \n",
      "                                                                 \n",
      " dropout (Dropout)           (None, 256)               0         \n",
      "                                                                 \n",
      " dense_1 (Dense)             (None, 20)                5140      \n",
      "                                                                 \n",
      "=================================================================\n",
      "Total params: 14789748 (56.42 MB)\n",
      "Trainable params: 14789748 (56.42 MB)\n",
      "Non-trainable params: 0 (0.00 Byte)\n",
      "_________________________________________________________________\n"
     ]
    }
   ],
   "source": [
    "model.summary()"
   ]
  },
  {
   "cell_type": "code",
   "execution_count": 11,
   "metadata": {},
   "outputs": [],
   "source": [
    "model.compile(optimizer='adam' , loss=\"categorical_crossentropy\" , metrics=['accuracy'])"
   ]
  },
  {
   "cell_type": "markdown",
   "metadata": {},
   "source": [
    "Training the model"
   ]
  },
  {
   "cell_type": "code",
   "execution_count": 12,
   "metadata": {},
   "outputs": [],
   "source": [
    "log_path = './logs/'\n",
    "tensorboard_callback = tf.keras.callbacks.TensorBoard(log_dir=log_path)\n",
    "earlystop_callback = tf.keras.callbacks.EarlyStopping(\n",
    "    monitor='val_loss',\n",
    "    min_delta = 1e-3,\n",
    "    patience=5,\n",
    "    mode='auto',\n",
    "    verbose=1,\n",
    "    restore_best_weights=True\n",
    ")"
   ]
  },
  {
   "cell_type": "code",
   "execution_count": 13,
   "metadata": {},
   "outputs": [
    {
     "name": "stdout",
     "output_type": "stream",
     "text": [
      "Epoch 1/100\n",
      "262/262 [==============================] - 896s 3s/step - loss: 2.4606 - accuracy: 0.2566 - val_loss: 1.8572 - val_accuracy: 0.4604\n",
      "Epoch 2/100\n",
      "262/262 [==============================] - 814s 3s/step - loss: 1.7119 - accuracy: 0.4808 - val_loss: 1.4145 - val_accuracy: 0.5863\n",
      "Epoch 3/100\n",
      "262/262 [==============================] - 803s 3s/step - loss: 1.1994 - accuracy: 0.6282 - val_loss: 1.1529 - val_accuracy: 0.6642\n",
      "Epoch 4/100\n",
      "262/262 [==============================] - 802s 3s/step - loss: 0.8416 - accuracy: 0.7376 - val_loss: 1.0120 - val_accuracy: 0.7108\n",
      "Epoch 5/100\n",
      "262/262 [==============================] - 802s 3s/step - loss: 0.5889 - accuracy: 0.8108 - val_loss: 1.0288 - val_accuracy: 0.7333\n",
      "Epoch 6/100\n",
      "262/262 [==============================] - 800s 3s/step - loss: 0.4300 - accuracy: 0.8669 - val_loss: 0.9585 - val_accuracy: 0.7646\n",
      "Epoch 7/100\n",
      "262/262 [==============================] - 769s 3s/step - loss: 0.3186 - accuracy: 0.8993 - val_loss: 1.0731 - val_accuracy: 0.7592\n",
      "Epoch 8/100\n",
      "262/262 [==============================] - 809s 3s/step - loss: 0.2685 - accuracy: 0.9160 - val_loss: 1.0407 - val_accuracy: 0.7579\n",
      "Epoch 9/100\n",
      "262/262 [==============================] - 836s 3s/step - loss: 0.2340 - accuracy: 0.9247 - val_loss: 1.2428 - val_accuracy: 0.7362\n",
      "Epoch 10/100\n",
      "262/262 [==============================] - 790s 3s/step - loss: 0.1918 - accuracy: 0.9411 - val_loss: 1.1751 - val_accuracy: 0.7404\n",
      "Epoch 11/100\n",
      "262/262 [==============================] - ETA: 0s - loss: 0.1940 - accuracy: 0.9399Restoring model weights from the end of the best epoch: 6.\n",
      "262/262 [==============================] - 758s 3s/step - loss: 0.1940 - accuracy: 0.9399 - val_loss: 1.2008 - val_accuracy: 0.7696\n",
      "Epoch 11: early stopping\n"
     ]
    }
   ],
   "source": [
    "history = model.fit(training_set , epochs=100 , validation_data=validation_set , callbacks=[tensorboard_callback , earlystop_callback])"
   ]
  },
  {
   "cell_type": "markdown",
   "metadata": {},
   "source": [
    "Plot Performance"
   ]
  },
  {
   "cell_type": "code",
   "execution_count": 14,
   "metadata": {},
   "outputs": [
    {
     "data": {
      "image/png": "[encoded data removed]",
      "text/plain": [
       "<Figure size 640x480 with 1 Axes>"
      ]
     },
     "metadata": {},
     "output_type": "display_data"
    }
   ],
   "source": [
    "fig = plt.figure()\n",
    "plt.plot(history.history['loss'] , color='teal' , label = 'loss')\n",
    "plt.plot(history.history['val_loss'] , color='orange' , label = 'val_loss')\n",
    "fig.suptitle('Loss' , fontsize = 20)\n",
    "plt.legend(loc=\"upper right\")\n",
    "plt.show()"
   ]
  },
  {
   "cell_type": "markdown",
   "metadata": {},
   "source": [
    "<b> Evaluate Perfomance </b>"
   ]
  },
  {
   "cell_type": "code",
   "execution_count": 15,
   "metadata": {},
   "outputs": [],
   "source": [
    "from tensorflow.keras.metrics import Precision, Recall, Accuracy "
   ]
  },
  {
   "cell_type": "code",
   "execution_count": 18,
   "metadata": {},
   "outputs": [
    {
     "name": "stdout",
     "output_type": "stream",
     "text": [
      "1/1 [==============================] - 1s 726ms/step\n",
      "1/1 [==============================] - 1s 504ms/step\n",
      "1/1 [==============================] - 1s 714ms/step\n",
      "1/1 [==============================] - 1s 815ms/step\n",
      "1/1 [==============================] - 1s 833ms/step\n",
      "1/1 [==============================] - 1s 794ms/step\n",
      "1/1 [==============================] - 1s 792ms/step\n",
      "1/1 [==============================] - 1s 756ms/step\n",
      "1/1 [==============================] - 1s 747ms/step\n",
      "1/1 [==============================] - 1s 750ms/step\n",
      "1/1 [==============================] - 1s 756ms/step\n",
      "1/1 [==============================] - 1s 768ms/step\n",
      "1/1 [==============================] - 1s 796ms/step\n",
      "1/1 [==============================] - 1s 871ms/step\n",
      "1/1 [==============================] - 1s 834ms/step\n",
      "1/1 [==============================] - 1s 748ms/step\n",
      "1/1 [==============================] - 1s 721ms/step\n",
      "1/1 [==============================] - 1s 746ms/step\n",
      "1/1 [==============================] - 1s 679ms/step\n",
      "1/1 [==============================] - 1s 637ms/step\n",
      "1/1 [==============================] - 1s 679ms/step\n",
      "1/1 [==============================] - 1s 669ms/step\n",
      "1/1 [==============================] - 1s 665ms/step\n",
      "1/1 [==============================] - 1s 644ms/step\n",
      "1/1 [==============================] - 1s 684ms/step\n",
      "1/1 [==============================] - 1s 657ms/step\n",
      "1/1 [==============================] - 1s 671ms/step\n",
      "1/1 [==============================] - 1s 681ms/step\n",
      "1/1 [==============================] - 1s 662ms/step\n",
      "1/1 [==============================] - 1s 667ms/step\n",
      "1/1 [==============================] - 1s 640ms/step\n",
      "1/1 [==============================] - 1s 660ms/step\n",
      "1/1 [==============================] - 1s 677ms/step\n",
      "1/1 [==============================] - 1s 744ms/step\n",
      "1/1 [==============================] - 1s 687ms/step\n",
      "1/1 [==============================] - 1s 687ms/step\n",
      "1/1 [==============================] - 1s 709ms/step\n",
      "Precision - 0.9919999837875366 \n",
      "Accuracy - 0.744087815284729 \n",
      "Recall - 0.993766725063324\n"
     ]
    }
   ],
   "source": [
    "accuracy_metric = Accuracy()\n",
    "precision_metric=  Precision()\n",
    "recall_metric = Recall()\n",
    "\n",
    "for batch in testing_set.as_numpy_iterator():\n",
    "    x , y = batch\n",
    "    y_hat = model.predict(x)\n",
    "    temp_y_hat = []\n",
    "    for test_result in y_hat:\n",
    "        results = test_result.tolist()\n",
    "        temp_y_hat.append(results.index(max(results)))\n",
    "    y_hat = temp_y_hat\n",
    "    \n",
    "    temp_y = []\n",
    "    for real_result in y:\n",
    "        results = real_result.tolist()\n",
    "        temp_y.append(results.index(max(results)))\n",
    "    y = temp_y \n",
    "    accuracy_metric.update_state(y , y_hat)\n",
    "    precision_metric.update_state(y , y_hat)\n",
    "    recall_metric.update_state(y , y_hat)\n",
    "\n",
    "\n",
    "print(f\"Precision - {precision_metric.result()} \\nAccuracy - {accuracy_metric.result()} \\nRecall - {recall_metric.result()}\")"
   ]
  },
  {
   "cell_type": "markdown",
   "metadata": {},
   "source": [
    "Save the model"
   ]
  },
  {
   "cell_type": "code",
   "execution_count": 17,
   "metadata": {},
   "outputs": [],
   "source": [
    "models_path = './models/'\n",
    "all_models = os.listdir(models_path)\n",
    "\n",
    "# save the model with the last_index as it's identifier\n",
    "model_path = os.path.join(models_path , f'model_{len(all_models)}.keras')\n",
    "model.save(model_path)"
   ]
  }
 ],
 "metadata": {
  "kernelspec": {
   "display_name": "Python 3",
   "language": "python",
   "name": "python3"
  },
  "language_info": {
   "codemirror_mode": {
    "name": "ipython",
    "version": 3
   },
   "file_extension": ".py",
   "mimetype": "text/x-python",
   "name": "python",
   "nbconvert_exporter": "python",
   "pygments_lexer": "ipython3",
   "version": "3.11.5"
  }
 },
 "nbformat": 4,
 "nbformat_minor": 2
}
